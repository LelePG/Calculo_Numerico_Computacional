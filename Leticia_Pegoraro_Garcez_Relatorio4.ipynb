{
  "nbformat": 4,
  "nbformat_minor": 0,
  "metadata": {
    "colab": {
      "name": "Leticia_Pegoraro_Garcez_Relatorio4.ipynb",
      "provenance": [],
      "collapsed_sections": []
    },
    "kernelspec": {
      "name": "python3",
      "display_name": "Python 3"
    }
  },
  "cells": [
    {
      "cell_type": "markdown",
      "metadata": {
        "id": "9UrXwMDAeDNG"
      },
      "source": [
        "#Bibliotecas\n"
      ]
    },
    {
      "cell_type": "code",
      "metadata": {
        "id": "fi0lgc97d_eS"
      },
      "source": [
        "from scipy.integrate import quad\n",
        "from math import pi\n",
        "from math import cos\n",
        "import numpy as np"
      ],
      "execution_count": 38,
      "outputs": []
    },
    {
      "cell_type": "markdown",
      "metadata": {
        "id": "Y9rV5pFKeYFc"
      },
      "source": [
        "# Métodos"
      ]
    },
    {
      "cell_type": "code",
      "metadata": {
        "id": "CwyfD0nFNuX_"
      },
      "source": [
        "def f(x):\n",
        "  j = 8 + 4*cos(x)\n",
        "  #print(j)#debug\n",
        "  return j\n",
        "\n",
        "def trapezioS(linferior, lsuperior):#ok tá certo\n",
        "  h = lsuperior - linferior\n",
        "  f0 = f(linferior)\n",
        "  f1 = f(lsuperior)\n",
        "  return h*(f0+f1)/2\n",
        "\n",
        "def trapezioR(limiteinferior,limitesuperior, n):\n",
        "  h = (limitesuperior-limiteinferior)/n\n",
        " # print(h) #debug\n",
        "  resultados = np.arange(limiteinferior,limitesuperior+0.00000001,h)#construir os subintervalos táá dando errado\n",
        "  #print(resultados) #debug\n",
        "  soma = (f(resultados[0])+f(resultados[n]))\n",
        "  for i in range(1,n):\n",
        "    soma = soma + 2*f(resultados[i])\n",
        "  return soma*h/2\n",
        "\n",
        "def simpson13S(linferior, lsuperior):\n",
        "  h = (lsuperior - linferior)/3\n",
        "  f0 = f(linferior)\n",
        "  f1 = f(linferior+h)\n",
        "  f2 = f(lsuperior)\n",
        "  return (f0+4*f1+f2)*h/3\n",
        "\n",
        "def simpson13R(linferior, lsuperior,n):\n",
        "  h = (lsuperior - linferior)/n\n",
        "  respostas = np.arange(linferior,lsuperior+0.000001,h)\n",
        "  #print(h)#debug\n",
        "  soma = 0\n",
        "  for i in range(2,n,2):\n",
        "    f0 = f(respostas[i-2])\n",
        "    f1 = 4*f(respostas[i-1])\n",
        "    f2 = f(respostas[i])\n",
        "    soma = soma+f0+f1+f2\n",
        "  return soma*h/3\n",
        "\n",
        "def simpson38S(linferior, lsuperior):\n",
        "  h = (lsuperior - linferior)/4\n",
        "  f0 = f(linferior)\n",
        "  f1 = f(linferior+h)\n",
        "  f2 = f(linferior+2*h)\n",
        "  f3 = f(lsuperior)\n",
        "  return (f0+3*f1+3*f2+f3)*h*3/8\n",
        "\n",
        "def simpson38R(linferior, lsuperior,n):\n",
        "  h = (lsuperior - linferior)/n\n",
        "  respostas = np.arange(linferior,lsuperior+0.000001,h)\n",
        "  #print(h)#debug\n",
        "  soma = 0\n",
        "  for i in range(3,n,4):\n",
        "    #print(i-3)#debug\n",
        "    f0 = f(respostas[i-3])\n",
        "    f1 = 3*f(respostas[i-2])\n",
        "    f2 = 3*f(respostas[i-1])\n",
        "    f3 = f(respostas[i])\n",
        "    soma = soma+f0+3*f1+3*f2+f3\n",
        "  return soma*h*3/8\n",
        "\n",
        "def g(x):\n",
        "  return np.exp(x)\n"
      ],
      "execution_count": 65,
      "outputs": []
    },
    {
      "cell_type": "markdown",
      "metadata": {
        "id": "1wje0dmreLpQ"
      },
      "source": [
        "# Lista de Exercício 5\n",
        "\n",
        "\n"
      ]
    },
    {
      "cell_type": "markdown",
      "metadata": {
        "id": "ySK8ByuPeLAD"
      },
      "source": [
        "##Questão 1 – Calcule a seguinte integral:\n",
        "\n",
        "![image.png](data:image/png;base64,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)\n",
        "\n",
        "1. analiticamente\n",
        "2. por uma única aplicação da regra do Trapézio\n",
        "3. por aplicações múltiplas da regra do Trapézio, com n = 2 e 4;\n",
        "4. uma única aplicação da regra 1/3 de Simpson;\n",
        "5. aplicação múltipla da regra 1/3 de Simpson, com n = 4; \n",
        "6. uma única aplicação da regra 3/8 de Simpson;\n",
        "7. aplicação múltipla da regra 3/8 de Simpson, com n = 5. \n",
        "\n",
        "\n",
        "Para cada estimativa numérica de (b) a (g), determine o erro relativo percentual com base em (a).\n",
        "\n"
      ]
    },
    {
      "cell_type": "code",
      "metadata": {
        "id": "PnVmpjipefiX",
        "colab": {
          "base_uri": "https://localhost:8080/"
        },
        "outputId": "161ff7d0-51be-4347-d4e6-e5fb273534ab"
      },
      "source": [
        "linferior = 0\n",
        "lsuperior = pi/2\n",
        "#1) Cálculo analítico\n",
        "funcao = lambda x:8 + 4*cos(x)\n",
        "valor = quad(funcao,linferior,lsuperior)[0]\n",
        "print(valor)"
      ],
      "execution_count": 43,
      "outputs": [
        {
          "output_type": "stream",
          "text": [
            "16.56637061435917\n"
          ],
          "name": "stdout"
        }
      ]
    },
    {
      "cell_type": "code",
      "metadata": {
        "colab": {
          "base_uri": "https://localhost:8080/"
        },
        "id": "a2GyfRfOu7sW",
        "outputId": "80fe03dc-5807-4733-ed43-cc114e8315d8"
      },
      "source": [
        "#2) Cálculo por uma única aplicação da regra do trapézio\n",
        "valortrapezioS = trapezioS(linferior,lsuperior)\n",
        "print(valortrapezioS)\n",
        "print(\"Erro relativo da regra do trapézio simples: \"+str((valor-valortrapezioS)/valortrapezioS))\n"
      ],
      "execution_count": 58,
      "outputs": [
        {
          "output_type": "stream",
          "text": [
            "15.707963267948966\n",
            "Erro relativo da regra do trapézio simples: 0.05464790894703232\n"
          ],
          "name": "stdout"
        }
      ]
    },
    {
      "cell_type": "code",
      "metadata": {
        "colab": {
          "base_uri": "https://localhost:8080/"
        },
        "id": "4DMhXcMJvu4-",
        "outputId": "deda1c5c-2cb3-4f5b-b52f-c8386981933d"
      },
      "source": [
        "#2) Cálculo por aplicação da regra do trapézio repetida com n = 2 e n = 4\n",
        "valortrapezior2 = trapezioR(linferior,lsuperior,2)\n",
        "valortrapezior4 = trapezioR(linferior,lsuperior,4)\n",
        "\n",
        "print(\"n=2: \"+ str(valortrapezior2))\n",
        "print(\"Erro relativo da regra do trapézio repetida com n = 2: \"+str((valor-valortrapezior2)/valortrapezior2))\n",
        "print(\"n=4: \"+ str(valortrapezior4))\n",
        "\n",
        "print(\"Erro relativo da regra do trapézio repetida com n = 4: \"+str((valor-valortrapezior4)/valortrapezior4))\n"
      ],
      "execution_count": 59,
      "outputs": [
        {
          "output_type": "stream",
          "text": [
            "n=2: 16.358608410233252\n",
            "Erro relativo da regra do trapézio repetida com n = 2: 0.012700481539490218\n",
            "n=4: 16.514833818250274\n",
            "Erro relativo da regra do trapézio repetida com n = 4: 0.0031206366758557607\n"
          ],
          "name": "stdout"
        }
      ]
    },
    {
      "cell_type": "code",
      "metadata": {
        "colab": {
          "base_uri": "https://localhost:8080/"
        },
        "id": "hwFJVZA3wS3n",
        "outputId": "e6293f1f-0165-40ef-8b83-85d338f45db4"
      },
      "source": [
        "#3) Cálculo por uma única aplicação da regra de 1/3 de simpson\n",
        "valor13S = simpson13S(linferior,lsuperior)\n",
        "print(valor13S)\n",
        "print(\"Erro relativo da regra de 1/3 de simpson simples: \"+str((valor-valor13S)/valor13S))\n"
      ],
      "execution_count": 60,
      "outputs": [
        {
          "output_type": "stream",
          "text": [
            "11.494111262682805\n",
            "Erro relativo da regra de 1/3 de simpson simples: 0.4412920003779799\n"
          ],
          "name": "stdout"
        }
      ]
    },
    {
      "cell_type": "code",
      "metadata": {
        "colab": {
          "base_uri": "https://localhost:8080/"
        },
        "id": "Bwd3RIK7w7Yy",
        "outputId": "5e8a823b-3fce-4c68-a8fd-20022efe1f29"
      },
      "source": [
        "#4) Cálculo por aplicações múúltiplas da regra de 1/3 de Simpson com n = 4\n",
        "valor13R4 = simpson13R(linferior,lsuperior,4)\n",
        "print(\"n=4: \"+ str(valor13R4))\n",
        "print(\"Erro relativo da regra de 1/3 de simpson repetida com n = 4: \"+str((valor-valor13R4)/valor13R4))\n"
      ],
      "execution_count": 61,
      "outputs": [
        {
          "output_type": "stream",
          "text": [
            "n=4: 9.111993095717368\n",
            "Erro relativo da regra de 1/3 de simpson repetida com n = 4: 0.8180841930340524\n"
          ],
          "name": "stdout"
        }
      ]
    },
    {
      "cell_type": "code",
      "metadata": {
        "colab": {
          "base_uri": "https://localhost:8080/"
        },
        "id": "PtU4PFFOxOol",
        "outputId": "c0976ff1-8166-485d-f037-43b53e50ddea"
      },
      "source": [
        "#5) Cálculo por uma única aplicação da regra de 3/8 de simpson\n",
        "valor38S = simpson38S(linferior,lsuperior)\n",
        "print(valor38S)\n",
        "print(\"Erro relativo da regra de 3/8 de simpson simples: \"+str((valor-valor38S)/valor38S))\n"
      ],
      "execution_count": 62,
      "outputs": [
        {
          "output_type": "stream",
          "text": [
            "12.896017307752938\n",
            "Erro relativo da regra de 3/8 de simpson simples: 0.2846113818721115\n"
          ],
          "name": "stdout"
        }
      ]
    },
    {
      "cell_type": "code",
      "metadata": {
        "colab": {
          "base_uri": "https://localhost:8080/"
        },
        "id": "mNUIo8trxWDR",
        "outputId": "3b75292f-53e8-40cd-ff2c-0e95bbd55b23"
      },
      "source": [
        "#6) Cálculo por aplicações múúltiplas da regra de 3/8 de Simpson com n = 5\n",
        "valor38R5 = simpson38R(linferior,lsuperior,5)\n",
        "print(\"n=5: \"+ str(valor38R5))\n",
        "print(\"Erro relativo da regra de 3/8 de simpson repetida com n = 5: \"+str((valor-valor38R5)/valor38R5))\n"
      ],
      "execution_count": 63,
      "outputs": [
        {
          "output_type": "stream",
          "text": [
            "n=5: 27.0625180088647\n",
            "Erro relativo da regra de 3/8 de simpson repetida com n = 5: -0.3878481444730078\n"
          ],
          "name": "stdout"
        }
      ]
    },
    {
      "cell_type": "markdown",
      "metadata": {
        "id": "CQ_E_Y1lesyJ"
      },
      "source": [
        "##Questão 2 – Use aproximações por diferenças centradas para obter estimativas para a primeira e a segunda derivadas de y = e^x em x = 2 para h = 0,1. Empregue tanto fórmulas de ordem de O(h^2) como de ordem O(h^4) para suas estimativas. "
      ]
    },
    {
      "cell_type": "code",
      "metadata": {
        "id": "r1_8Lvsl3OL3",
        "colab": {
          "base_uri": "https://localhost:8080/"
        },
        "outputId": "0ddb43f9-d45b-4059-84da-2c239ca7ff4b"
      },
      "source": [
        "h = 0.1\n",
        "x = 2\n",
        "\n",
        "primeiraDerivadaFinita = (g(x+h) - g(x-h))/(2*h)\n",
        "primeiraDerivadaFinitaPrecisaoDupla = (-g(x+2*h)+8*g(x+h) - 8*g(x-h)+g(x-2*h))/(12*h)\n",
        "\n",
        "segundaDerivadaFinita = (g(x+h) -2*g(x)+ g(x-h))/(h**2)\n",
        "segundaDerivadaFinitaPrecisaoDupla = (-g(x+2*h)+16*g(x+h) - 30*g(x)+16*g(x-h)-g(x-2*h))/(12*h**2)\n",
        "\n",
        "print(\"Primeira derivada: \"+ str(primeiraDerivadaFinita))\n",
        "print(\"Primeira derivada com precisão dupla: \"+ str(primeiraDerivadaFinitaPrecisaoDupla))\n",
        "print(\"Segunda derivada: \"+ str(segundaDerivadaFinita))\n",
        "print(\"Segunda derivada com precisão dupla: \"+ str(segundaDerivadaFinitaPrecisaoDupla))\n"
      ],
      "execution_count": 68,
      "outputs": [
        {
          "output_type": "stream",
          "text": [
            "Primeira derivada: 7.401377351441916\n",
            "Primeira derivada com precisão dupla: 7.389031439404905\n",
            "Segunda derivada: 7.395215698561939\n",
            "Segunda derivada com precisão dupla: 7.389047881534537\n"
          ],
          "name": "stdout"
        }
      ]
    }
  ]
}