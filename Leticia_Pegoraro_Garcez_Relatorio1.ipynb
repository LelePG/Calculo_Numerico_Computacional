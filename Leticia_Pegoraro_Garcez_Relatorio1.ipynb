{
  "nbformat": 4,
  "nbformat_minor": 0,
  "metadata": {
    "colab": {
      "name": "Relatorio1_Leticia_Pegoraro_Garcez_18100304.ipynb",
      "provenance": [],
      "collapsed_sections": [],
      "toc_visible": true
    },
    "kernelspec": {
      "name": "python3",
      "display_name": "Python 3"
    }
  },
  "cells": [
    {
      "cell_type": "markdown",
      "metadata": {
        "id": "9UrXwMDAeDNG"
      },
      "source": [
        "#Bibliotecas\n"
      ]
    },
    {
      "cell_type": "code",
      "metadata": {
        "id": "BXZGiPmGuLwJ"
      },
      "source": [
        "import matplotlib.pyplot as plt\n",
        "import numpy as np\n",
        "import math"
      ],
      "execution_count": null,
      "outputs": []
    },
    {
      "cell_type": "markdown",
      "metadata": {
        "id": "Y9rV5pFKeYFc"
      },
      "source": [
        "# Métodos"
      ]
    },
    {
      "cell_type": "code",
      "metadata": {
        "id": "sre5D61wfaVY"
      },
      "source": [
        "def guardaFuncao (x,exer): #seleciona a fórmula do exercío e retorna seu valor\n",
        "  if exer ==1:\n",
        "    return x**10-1\n",
        "  elif exer ==2:\n",
        "    return x**3-6*x**2+11*x-6.1\n",
        "  elif exer ==3:\n",
        "    return (x/2)**2 - math.sin(x)\n",
        "  elif exer ==4:\n",
        "    return x**5-16.05*x**4+88.75*x**3-192.0375*x**2+116.35*x+31.6875\n",
        "  else:\n",
        "    return calcula5(x,exer)"
      ],
      "execution_count": null,
      "outputs": []
    },
    {
      "cell_type": "code",
      "metadata": {
        "id": "4_VXHI6a05LN"
      },
      "source": [
        "def calcula5 (x,exer):\n",
        "  if exer =='a':\n",
        "    return math.exp(-x**2) - math.cos(x)\n",
        "  elif exer =='b':\n",
        "    return (x**3)-x-1\n",
        "  elif exer =='c':\n",
        "    return 4*math.sin(x)-math.exp(x)\n",
        "  elif exer =='d':\n",
        "    return (x*math.log10(x))-1\n",
        "  else:\n",
        "    return x"
      ],
      "execution_count": null,
      "outputs": []
    },
    {
      "cell_type": "code",
      "metadata": {
        "id": "ZNsMEVqy9G9Q"
      },
      "source": [
        "def guardaDerivada (x,exer):\n",
        "  if exer == 2:\n",
        "    return 6*x-12\n",
        "  elif exer == 4:\n",
        "    return 5*x**4-64.2*x**3+266.25*x**2-384.075*x+116.35\n",
        "  elif exer =='a':\n",
        "    return (-1+math.exp(x) * math.sin(x))/math.exp(x)\n",
        "  elif exer =='b':\n",
        "    return 2*x**2-1\n",
        "  elif exer =='c':\n",
        "    return 4*math.cos(x)-math.exp(x)\n",
        "  elif exer =='d':\n",
        "    return math.log10(x)+(1/math.log(10))\n",
        "  else:\n",
        "    return x"
      ],
      "execution_count": null,
      "outputs": []
    },
    {
      "cell_type": "code",
      "metadata": {
        "id": "HxY68-Csixy4"
      },
      "source": [
        "def bissec(a,b,exer,inter=10000000, prec = 0.00000000000000001):\n",
        "  for k in range(inter):\n",
        "    if (b-a) < prec:\n",
        "      return x\n",
        "    x = (a+b)/2\n",
        "    fa = guardaFuncao(a,exer)\n",
        "    fx = guardaFuncao(x,exer)\n",
        "    ##print(k,a,x,fa,fx)##debug\n",
        "    if fa*fx >0:\n",
        "     a=x\n",
        "    elif fa*fx <0:\n",
        "     b=x\n",
        "    if (b-a)<prec:\n",
        "     return x\n",
        "  return x"
      ],
      "execution_count": null,
      "outputs": []
    },
    {
      "cell_type": "code",
      "metadata": {
        "id": "O2xTivx9in_2"
      },
      "source": [
        "def falcaPos(a,b,exer,inter=10000000, prec1= 0.00000000000000001, prec2= 0.00000000000000001):\n",
        "  for k in range (inter):\n",
        "    fa = guardaFuncao(a,exer)\n",
        "    fb= guardaFuncao(b,exer)\n",
        "    if (b-a) < prec1:\n",
        "      if abs(fa)< prec2:\n",
        "        return a\n",
        "      elif abs(fb)< prec2:\n",
        "        return b\n",
        "    x=(a*fb - b*fa)/(fb-fa)\n",
        "    fx = guardaFuncao(x,exer)\n",
        "    ##print(k,x,fx)##debug\n",
        "    if abs(fx) < prec2:\n",
        "      return x\n",
        "    if fa*fx >0:\n",
        "      a=x\n",
        "    else:\n",
        "      b=x\n",
        "    if (b-a)<prec1:\n",
        "      return x\n",
        "  return x"
      ],
      "execution_count": null,
      "outputs": []
    },
    {
      "cell_type": "code",
      "metadata": {
        "id": "kzg_l6A542iX"
      },
      "source": [
        "def tangente(x0,exer, inter=100000000,prec1 = 0.0000000000001, prec2 = 0.0000000001):\n",
        "  for k in range(inter):\n",
        "    if abs(guardaFuncao(x0,exer)) < prec1:\n",
        "      return x0\n",
        "    x1 = x0-(guardaFuncao(x0,exer)/guardaDerivada(x0,exer))\n",
        "    ##print(k,x0,guardaFuncao(x0,exer))##debug\n",
        "    if abs(guardaFuncao(x1,exer)) <prec1 or abs(x1-x0) < prec2:\n",
        "     return x1\n",
        "    x0=x1\n",
        "  return x0"
      ],
      "execution_count": null,
      "outputs": []
    },
    {
      "cell_type": "code",
      "metadata": {
        "id": "9wsQWjK2Jp-u"
      },
      "source": [
        "def secante(x0,x1,exer, inter=100000000,prec1 = 0.00000000000000001, prec2 = 0.0000000001):\n",
        "  for k in range(inter):\n",
        "    if abs(guardaFuncao(x0,exer)) < prec1:\n",
        "      return x0\n",
        "    if abs(guardaFuncao(x1,exer)) < prec1 or abs(x1-x0) < prec2:\n",
        "      return x1\n",
        "    x2 = x1-(guardaFuncao(x1,exer)/(guardaFuncao(x1,exer)-guardaFuncao(x0,exer)))*(x1-x0)\n",
        "    if abs(guardaFuncao(x2,exer)) < prec1 or abs(x2-x1) < prec2:\n",
        "      return x2\n",
        "    x0 = x1\n",
        "    x1 = x2\n",
        "  return x2##caso seja dado um número de iterações"
      ],
      "execution_count": null,
      "outputs": []
    },
    {
      "cell_type": "markdown",
      "metadata": {
        "id": "1wje0dmreLpQ"
      },
      "source": [
        "# Lista de Exercício 2"
      ]
    },
    {
      "cell_type": "markdown",
      "metadata": {
        "id": "ySK8ByuPeLAD"
      },
      "source": [
        "##Questão 1 – Determine a raiz da função f(x) = x^10 - 1 com o método da bissecção e da falsa posição. Utilize cinco iterações e as aproximações iniciais a = 0 e b = 1,3. Qual dos métodos obteve melhor desempenho? Porque?"
      ]
    },
    {
      "cell_type": "code",
      "metadata": {
        "id": "PnVmpjipefiX",
        "outputId": "a1c4acda-e74b-4303-8a86-8d4b6b4a9314",
        "colab": {
          "base_uri": "https://localhost:8080/",
          "height": 56
        }
      },
      "source": [
        "print(\"Método da bissecção: \"+ str(bissec(0,1.3,1,5)))\n",
        "print(\"Método da Falsa Posição: \" + str(falcaPos(0,1.3,1,5)))"
      ],
      "execution_count": null,
      "outputs": [
        {
          "output_type": "stream",
          "text": [
            "Método da bissecção: 1.015625\n",
            "Método da Falsa Posição: 0.4078779165927524\n"
          ],
          "name": "stdout"
        }
      ]
    },
    {
      "cell_type": "code",
      "metadata": {
        "id": "b3CDcJiZjxcx"
      },
      "source": [
        "O método que obteve melhor desempenho foi o método da bissecção, já que resolvendo\n",
        "substituindo na equação, 0=x**10 -1, se fica com x= raiz décima de 1, cujo resultado é 1 ou -1\n",
        "Portanto, o método da bissecção é o que mais se aproxima do resultado."
      ],
      "execution_count": null,
      "outputs": []
    },
    {
      "cell_type": "markdown",
      "metadata": {
        "id": "CQ_E_Y1lesyJ"
      },
      "source": [
        "##Questão 2 – Determine a maior raiz real de f(x) = x^3 – 6x^2 + 11x – 6,1 \n",
        "\n",
        "1. Graficamente\n",
        "2. Usando o método da tangente (três iterações, x0=3,5)\n",
        "3. Usando o método da secante (três iterações, x0=2,5 e x1=3,5)\n",
        "4. Discuta sobre os resultados obtidos"
      ]
    },
    {
      "cell_type": "markdown",
      "metadata": {
        "id": "YU1_ZlSwAz1w"
      },
      "source": [
        "a)Graficamente"
      ]
    },
    {
      "cell_type": "code",
      "metadata": {
        "id": "26QW9-tCvKdY",
        "outputId": "a590d2b0-fb04-43b7-c643-9bf95d118939",
        "colab": {
          "base_uri": "https://localhost:8080/",
          "height": 279
        }
      },
      "source": [
        "inicio = 0\n",
        "fim = 4\n",
        "pts = 100\n",
        " \n",
        "curva = np.linspace(inicio,fim,pts)\n",
        "coordenadas = [guardaFuncao(valor,2) for valor in curva]\n",
        "plt.plot(curva,coordenadas)\n",
        "plt.xlabel(\"x\")\n",
        "plt.ylabel(\"F(x)\")\n",
        "plt.grid()\n",
        "plt.show()\n",
        "#raizes aproximadas graficamente: 1,2 e 3"
      ],
      "execution_count": null,
      "outputs": [
        {
          "output_type": "display_data",
          "data": {
            "image/png": "[encoded data removed]",
            "text/plain": [
              "<Figure size 432x288 with 1 Axes>"
            ]
          },
          "metadata": {
            "tags": [],
            "needs_background": "light"
          }
        }
      ]
    },
    {
      "cell_type": "markdown",
      "metadata": {
        "id": "mJFSwTP1BS7D"
      },
      "source": [
        "b)Método da tangente"
      ]
    },
    {
      "cell_type": "code",
      "metadata": {
        "id": "bjpjR_eIew2H",
        "outputId": "f6ad71d3-0390-4c98-9958-4fe61a2da26e",
        "colab": {
          "base_uri": "https://localhost:8080/",
          "height": 88
        }
      },
      "source": [
        "%time print(\"Método da Tangente: \" + str(tangente(3.5,2,3)))"
      ],
      "execution_count": null,
      "outputs": [
        {
          "output_type": "stream",
          "text": [
            "Método da Tangente: 3.1401824098253566\n",
            "CPU times: user 326 µs, sys: 0 ns, total: 326 µs\n",
            "Wall time: 246 µs\n"
          ],
          "name": "stdout"
        }
      ]
    },
    {
      "cell_type": "markdown",
      "metadata": {
        "id": "bOqkbMaxB4F8"
      },
      "source": [
        "c).Método da Secante"
      ]
    },
    {
      "cell_type": "code",
      "metadata": {
        "id": "rDy-oZFvB98r",
        "outputId": "2e108654-7e5d-4a7c-e6e7-2b24e1b2c844",
        "colab": {
          "base_uri": "https://localhost:8080/",
          "height": 88
        }
      },
      "source": [
        "%time print(\"Método da Secante: \" + str(secante(2.5,3.5,2,3)))"
      ],
      "execution_count": null,
      "outputs": [
        {
          "output_type": "stream",
          "text": [
            "Método da Secante: 3.2219234494376807\n",
            "CPU times: user 291 µs, sys: 0 ns, total: 291 µs\n",
            "Wall time: 225 µs\n"
          ],
          "name": "stdout"
        }
      ]
    },
    {
      "cell_type": "markdown",
      "metadata": {
        "id": "876m2VP7C1jo"
      },
      "source": [
        "d) Discussão:\n",
        "Os resultados obtidos se mostraram consistentes, girando em torno de aproximadamente 3 (aproximação visual com base no gráfico), para aproximadamente 3.14 (arredondado) no método da tangente e 3.22 (arredondado) no método da secante.O resultado obtido analicamente foi 3.046680531804602, portanto o método da tangente (3.14) foi o que obteu o maior desempenho. Apesar disso, o método da Secante foi mais rápido, levando 225μ segundos para exibir o resultado"
      ]
    },
    {
      "cell_type": "markdown",
      "metadata": {
        "id": "a07s4joOfj7E"
      },
      "source": [
        "##Questão 3 – Use o método da bissecção para determinar uma raiz de f(x) = (x/2)^2 – sen(x) utilizando as aproximações iniciais a = 1,5 e b = 2 e 𝜀 = 0,001% . Explique seus resultados."
      ]
    },
    {
      "cell_type": "code",
      "metadata": {
        "id": "3jehH9tQfbFa",
        "outputId": "c1c759f4-9967-4e99-80f0-d7f1a9a7c99f",
        "colab": {
          "base_uri": "https://localhost:8080/",
          "height": 88
        }
      },
      "source": [
        "%time print(\"Método da Bissecção: \" + str(bissec(1.5,2,3,prec=0.001)))"
      ],
      "execution_count": null,
      "outputs": [
        {
          "output_type": "stream",
          "text": [
            "Método da Bissecção: 1.9345703125\n",
            "CPU times: user 836 µs, sys: 0 ns, total: 836 µs\n",
            "Wall time: 830 µs\n"
          ],
          "name": "stdout"
        }
      ]
    },
    {
      "cell_type": "markdown",
      "metadata": {
        "id": "sRdhHpXCEYsT"
      },
      "source": [
        "Explicação dos resultados: Os resultados foram obtidos através do método da bissecção, com precisãão de 0.001%, ou seja, quando (b-a) < 0.001, o código termina sua execução retornando o valor 1.9345703125, obtido após mais de 10 interações do código(resultado obtido com 10 interações:  1.93408203125), levando 830μ segundos totais de processamento, já que  o algortimo só para uma vez que a precisão desejada tenha sido aingida."
      ]
    },
    {
      "cell_type": "markdown",
      "metadata": {
        "id": "DkBJiIz3fkdr"
      },
      "source": [
        "##Questão 4 – Use o método da tangente para determinar uma raiz de f(x) = x^5 – 16,05x^4 + 88,75x^3 – 192,0375x^2 + 116,35x + 31,6875 utilizando uma aproximação inicial de x0 = 0,5825 e 𝜀 = 0,01% . Explique seus resultados.\n"
      ]
    },
    {
      "cell_type": "code",
      "metadata": {
        "id": "LKXOf6RzflAb",
        "outputId": "ec805cbf-438a-4553-873d-78b11097e38a",
        "colab": {
          "base_uri": "https://localhost:8080/",
          "height": 88
        }
      },
      "source": [
        "%time print(tangente(0.5825,4,prec1=0.01,prec2=0.01))#como foi dada só uma precisão, assumi as duas como sendo iguais"
      ],
      "execution_count": null,
      "outputs": [
        {
          "output_type": "stream",
          "text": [
            "6.500017452342041\n",
            "CPU times: user 210 µs, sys: 50 µs, total: 260 µs\n",
            "Wall time: 226 µs\n"
          ],
          "name": "stdout"
        }
      ]
    },
    {
      "cell_type": "markdown",
      "metadata": {
        "id": "N6dBZnRNVc1F"
      },
      "source": [
        "Explicação dos resultados:\n",
        "O resultado obtido é uma aproximação do resultado da equaçãão obtido pelo método da tangente, utilizado um valor inicial de 0.5825 e precisão de 0.01%.\n",
        "A partir de um valor inicial x0, neste caso, 0.5825, é selecionado um valor x1, sendo que x1 corresponde a x0-(f(x0)/f'(x0)). Após isso, éé verificado se a precisão desejada foi atingida. Em caso negativo, é feito x0=x1, e uma nova iteração começa.\n",
        "O resultado obtido (6.500017452342041), aparece após se constatar que o valor de f(x1) é menor que a precisão, ou que o módulo de (x1-x0) é menor que a precisão estabelecida. O tempo total de execução do código em wall time foi de 227μ segundos, enquanto o tempo total em que a CPU esteve ocupada foi de 262μ segundos"
      ]
    },
    {
      "cell_type": "markdown",
      "metadata": {
        "id": "rKMdi5ALfrrD"
      },
      "source": [
        "## Questão 5 – Compare o desempenho dos métodos da Bissecção, Falsa Posição, Tangente e Secante nas equações abaixo:\n",
        "1. f(x)=e^(-x^2)-cos(x) 𝜀1=𝜀2=10^-4 𝜉 ∈ [1, 2]\n",
        "2. f(x)=x^3-x-1         𝜀1=𝜀2=10^-6 𝜉 ∈ [1, 2] \n",
        "3. f(x)=4sen(x)-e^x     𝜀1=𝜀2=10^-5 𝜉 ∈ [0, 1] \n",
        "4. f(x)=xlog(x)-1       𝜀1=𝜀2=10^-7 𝜉 ∈ [2, 3]\n",
        "\n",
        " "
      ]
    },
    {
      "cell_type": "code",
      "metadata": {
        "id": "ebIfaclag7a3",
        "outputId": "2200ff2f-75be-4ae7-8a35-f7781a4b730a",
        "colab": {
          "base_uri": "https://localhost:8080/",
          "height": 105
        }
      },
      "source": [
        "#1\n",
        "print(\"Método da Bissecção: \" + str(bissec(1,2,'a',prec=0.0001)))\n",
        "print(\"Método da Falsa Posição: \" + str(falcaPos(1,2,'a',prec1=0.0001,prec2=0.0001)))\n",
        "print(\"Método da Tangente: \" +str(tangente(1,'a',prec1=0.0001)))\n",
        "print(\"Método da Secante: \" +str(secante(1,2,'a',prec1=0.0001,prec2=0.0001)))\n",
        "#O resultado obtido analicamente foi 1.44741427129624. O método com o resultado mais próximo, e portanto maior desempenho foi o da Secante, seguido pelo da bissecção, falsa posição e tangente."
      ],
      "execution_count": null,
      "outputs": [
        {
          "output_type": "stream",
          "text": [
            "Método da Bissecção: 1.44744873046875\n",
            "Método da Falsa Posição: 1.4473570678005703\n",
            "Método da Tangente: 1.447353175090673\n",
            "Método da Secante: 1.4474134472158682\n"
          ],
          "name": "stdout"
        }
      ]
    },
    {
      "cell_type": "code",
      "metadata": {
        "id": "OPFhGy8YDl6d",
        "outputId": "62deac46-e90e-41f0-a927-8f18c624e71e",
        "colab": {
          "base_uri": "https://localhost:8080/",
          "height": 94
        }
      },
      "source": [
        "#2\n",
        "print(\"Método da Bissecção: \" + str(bissec(1,2,'b',prec=0.000001)))\n",
        "print(\"Método da Falsa Posição: \" + str(falcaPos(1,2,'b',prec1=0.000001,prec2=0.000001)))\n",
        "print(\"Método da Tangente: \" +str(tangente(1.0,'b',prec1=0.000001)))\n",
        "print(\"Método da Secante: \" +str(secante(1,2,'b',prec1=0.000001,prec2=0.000001)))\n",
        " \n",
        "#O resultado obtido analicamente é 1.3247179572447458, portanto o método com o maior desempenho é o método da Secante, que mais se aproximou do resultado, seguido pelo método da falsa posição, da bissecção e da tangente"
      ],
      "execution_count": null,
      "outputs": [
        {
          "output_type": "stream",
          "text": [
            "Método da Bissecção: 1.3247175216674805\n",
            "Método da Falsa Posição: 1.3247177628396751\n",
            "Método da Tangente: 1.3247177421650016\n",
            "Método da Secante: 1.3247179653538177\n"
          ],
          "name": "stdout"
        }
      ]
    },
    {
      "cell_type": "code",
      "metadata": {
        "id": "n_UK8jL9D2I0",
        "outputId": "2ef6abcd-3ab0-4b13-ea2a-d51094a280d7",
        "colab": {
          "base_uri": "https://localhost:8080/",
          "height": 94
        }
      },
      "source": [
        "#3\n",
        "print(\"Método da Bissecção: \" + str(bissec(0,1,'c',prec=0.00001)))\n",
        "print(\"Método da Falsa Posição: \" + str(falcaPos(0,1,'c',prec1=0.00001,prec2=0.00001)))\n",
        "print(\"Método da Tangente: \" +str(tangente(0,'c',prec1=0.00001)))\n",
        "print(\"Método da Secante: \" +str(secante(0,1,'c',prec1=0.00001,prec2=0.00001)))\n",
        "#O resultado obtido analiticamente foi 0.370558095969825. O método que mais se aproximou deste resultado, e portanto o com maior desempemho foi o método da secante,seguido pelo método da tangente e da falsa posição, e por fim o método da bissecção"
      ],
      "execution_count": null,
      "outputs": [
        {
          "output_type": "stream",
          "text": [
            "Método da Bissecção: 0.37055206298828125\n",
            "Método da Falsa Posição: 0.37055882835462395\n",
            "Método da Tangente: 0.3705576855322359\n",
            "Método da Secante: 0.37055809827709907\n"
          ],
          "name": "stdout"
        }
      ]
    },
    {
      "cell_type": "code",
      "metadata": {
        "id": "_X_nxvjoEQUE",
        "outputId": "1f1416ce-309f-459f-b00b-89926331d3ad",
        "colab": {
          "base_uri": "https://localhost:8080/",
          "height": 105
        }
      },
      "source": [
        "#4\n",
        "print(\"Método da Bissecção: \" + str(bissec(2,3,'d',prec=0.0000001)))\n",
        "print(\"Método da Falsa Posição: \" + str(falcaPos(2,3,'d',prec1=0.0000001,prec2=0.0000001)))\n",
        "print(\"Método da Tangente: \" +str(tangente(2,'d',prec1=0.000001)))\n",
        "print(\"Método da Secante: \" +str(secante(2,3,'d',prec1=0.000001,prec2=0.000001)))"
      ],
      "execution_count": null,
      "outputs": [
        {
          "output_type": "stream",
          "text": [
            "Método da Bissecção: 2.506184160709381\n",
            "Método da Falsa Posição: 2.506184026449166\n",
            "Método da Tangente: 2.5061841472194204\n",
            "Método da Secante: 2.5061841451621825\n"
          ],
          "name": "stdout"
        }
      ]
    }
  ]
}